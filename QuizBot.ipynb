{
  "nbformat": 4,
  "nbformat_minor": 0,
  "metadata": {
    "colab": {
      "provenance": []
    },
    "kernelspec": {
      "name": "python3",
      "display_name": "Python 3"
    },
    "language_info": {
      "name": "python"
    }
  },
  "cells": [
    {
      "cell_type": "code",
      "execution_count": 1,
      "metadata": {
        "colab": {
          "base_uri": "https://localhost:8080/"
        },
        "id": "T-IqxVjlQ8cu",
        "outputId": "3d910151-309f-4466-f849-144e1ac02afa"
      },
      "outputs": [
        {
          "output_type": "stream",
          "name": "stdout",
          "text": [
            "🎓 Welcome to EduQuiz!\n",
            "Answer the following questions:\n",
            "\n",
            "\n",
            "Q1: What is the capital of India?\n",
            "a. Mumbai\n",
            "b. Kolkata\n",
            "c. New Delhi\n",
            "d. Chennai\n",
            "Enter your answer (a/b/c/d): c\n",
            "✅ Correct!\n",
            "\n",
            "Q2: Which language is used for web development?\n",
            "a. Python\n",
            "b. HTML\n",
            "c. C++\n",
            "d. Java\n",
            "Enter your answer (a/b/c/d): b\n",
            "✅ Correct!\n",
            "\n",
            "Q3: Who is known as the father of computers?\n",
            "a. Charles Babbage\n",
            "b. Elon Musk\n",
            "c. Isaac Newton\n",
            "d. Ada Lovelace\n",
            "Enter your answer (a/b/c/d): a\n",
            "✅ Correct!\n",
            "\n",
            "🎉 Quiz Completed! Your final score is 3 out of 3.\n"
          ]
        }
      ],
      "source": [
        "print(\"🎓 Welcome to EduQuiz!\")\n",
        "print(\"Answer the following questions:\\n\")\n",
        "\n",
        "# Step 2: Define the quiz questions and answers\n",
        "questions = {\n",
        "    \"What is the capital of India?\": \"c\",\n",
        "    \"Which language is used for web development?\": \"b\",\n",
        "    \"Who is known as the father of computers?\": \"a\"\n",
        "}\n",
        "\n",
        "options = [\n",
        "    [\"a. Mumbai\", \"b. Kolkata\", \"c. New Delhi\", \"d. Chennai\"],\n",
        "    [\"a. Python\", \"b. HTML\", \"c. C++\", \"d. Java\"],\n",
        "    [\"a. Charles Babbage\", \"b. Elon Musk\", \"c. Isaac Newton\", \"d. Ada Lovelace\"]\n",
        "]\n",
        "\n",
        "# Step 3: Ask questions and take user input\n",
        "score = 0\n",
        "question_number = 0\n",
        "\n",
        "for question in questions:\n",
        "    print(f\"\\nQ{question_number + 1}: {question}\")\n",
        "    for option in options[question_number]:\n",
        "        print(option)\n",
        "    answer = input(\"Enter your answer (a/b/c/d): \").lower()\n",
        "\n",
        "    if answer == questions[question]:\n",
        "        print(\"✅ Correct!\")\n",
        "        score += 1\n",
        "    else:\n",
        "        print(f\"❌ Wrong! The correct answer was: {questions[question]}\")\n",
        "\n",
        "    question_number += 1\n",
        "\n",
        "# Step 4: Display final score\n",
        "print(f\"\\n🎉 Quiz Completed! Your final score is {score} out of {len(questions)}.\")\n"
      ]
    }
  ]
}